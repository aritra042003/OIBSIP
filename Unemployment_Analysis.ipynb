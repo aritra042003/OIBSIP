{
  "nbformat": 4,
  "nbformat_minor": 0,
  "metadata": {
    "colab": {
      "private_outputs": true,
      "provenance": []
    },
    "kernelspec": {
      "name": "python3",
      "display_name": "Python 3"
    },
    "language_info": {
      "name": "python"
    }
  },
  "cells": [
    {
      "cell_type": "markdown",
      "source": [
        "# Important Libraries"
      ],
      "metadata": {
        "id": "gBx6qd7nG_uZ"
      }
    },
    {
      "cell_type": "code",
      "execution_count": null,
      "metadata": {
        "id": "F-Hcu8Doyaw-"
      },
      "outputs": [],
      "source": [
        "import pandas as pd\n",
        "import seaborn as sns\n",
        "import matplotlib.pyplot as plt\n",
        "import plotly.express as px\n",
        "from scipy.stats import ttest_ind\n",
        "from sklearn.model_selection import train_test_split\n",
        "from sklearn.linear_model import LinearRegression\n",
        "from sklearn.metrics import mean_absolute_error, mean_squared_error, r2_score"
      ]
    },
    {
      "cell_type": "code",
      "source": [
        "#Load data\n",
        "df1=pd.read_csv('/Unemployment_Rate_upto_11_2020.csv')"
      ],
      "metadata": {
        "id": "1T5f5hwOG-oe"
      },
      "execution_count": null,
      "outputs": []
    },
    {
      "cell_type": "markdown",
      "source": [
        "# Exploratory Data Analysis"
      ],
      "metadata": {
        "id": "zqvMlFEPaJdE"
      }
    },
    {
      "cell_type": "code",
      "source": [
        "df1.head()"
      ],
      "metadata": {
        "id": "ywlgK_DYRPx8"
      },
      "execution_count": null,
      "outputs": []
    },
    {
      "cell_type": "code",
      "source": [
        "df1.tail()"
      ],
      "metadata": {
        "id": "3gcrxWvKRm0X"
      },
      "execution_count": null,
      "outputs": []
    },
    {
      "cell_type": "code",
      "source": [
        "print(df1.shape)\n",
        "df1.info()"
      ],
      "metadata": {
        "id": "gb7snwMdHrXL"
      },
      "execution_count": null,
      "outputs": []
    },
    {
      "cell_type": "code",
      "source": [
        "df1 = df1.rename(columns={'Region': 'Region1', 'Region.1': 'Region2'})"
      ],
      "metadata": {
        "id": "MOvKUGGjH444"
      },
      "execution_count": null,
      "outputs": []
    },
    {
      "cell_type": "code",
      "source": [
        "df1.columns"
      ],
      "metadata": {
        "id": "pyG8uLH0Q3YM"
      },
      "execution_count": null,
      "outputs": []
    },
    {
      "cell_type": "code",
      "source": [
        "# Step 6: Statistical Analysis\n",
        "# Example: Correlation between variables\n",
        "correlation_matrix = df1.corr()\n",
        "print(correlation_matrix)"
      ],
      "metadata": {
        "id": "aa0to9U-Z8hB"
      },
      "execution_count": null,
      "outputs": []
    },
    {
      "cell_type": "code",
      "source": [
        "#statistical information about Dataframe\n",
        "df1.describe()"
      ],
      "metadata": {
        "id": "B4QG8HVkwIez"
      },
      "execution_count": null,
      "outputs": []
    },
    {
      "cell_type": "markdown",
      "source": [
        "# Data Visualization"
      ],
      "metadata": {
        "id": "OAbnZeYvbZxx"
      }
    },
    {
      "cell_type": "markdown",
      "source": [
        "# Bar plot of Estimated Unemployment Rate in states"
      ],
      "metadata": {
        "id": "eRL6jAiWvZ5V"
      }
    },
    {
      "cell_type": "code",
      "source": [
        "# Clean the column names\n",
        "df1.columns = df1.columns.str.strip()\n",
        "# Group the data by region and calculate the average unemployment rate\n",
        "avg_unemployment_rate = df1.groupby('Region1')['Estimated Unemployment Rate (%)'].mean().reset_index()\n",
        "\n",
        "# Create a bar plot using Plotly\n",
        "fig = px.bar(avg_unemployment_rate, x='Region1', y='Estimated Unemployment Rate (%)',\n",
        "             title='Average Unemployment Rate Across Different States',\n",
        "             labels={'Estimated Unemployment Rate (%)': 'Average Unemployment Rate (%)',\n",
        "                     'Region1': 'Region'},\n",
        "             color='Region1',\n",
        "             color_discrete_sequence=px.colors.qualitative.Set1)\n",
        "\n",
        "fig.update_layout(xaxis_tickangle=-45, xaxis_title='', yaxis_title='Average Unemployment Rate (%)')\n",
        "\n",
        "fig.show()"
      ],
      "metadata": {
        "id": "Swhbi5u1cocS"
      },
      "execution_count": null,
      "outputs": []
    },
    {
      "cell_type": "markdown",
      "source": [
        "# Bar  plot of Estimated Unemployment Rate in Region"
      ],
      "metadata": {
        "id": "BWsB7dxRvUhI"
      }
    },
    {
      "cell_type": "code",
      "source": [
        "# Group the data by region and calculate the average unemployment rate\n",
        "avg_unemployment_rate = df1.groupby('Region2')['Estimated Unemployment Rate (%)'].mean().reset_index()\n",
        "\n",
        "# Create a bar plot using Plotly\n",
        "fig = px.bar(avg_unemployment_rate, x='Region2', y='Estimated Unemployment Rate (%)',\n",
        "             title='Average Unemployment Rate Across Different Regions',\n",
        "             labels={'Estimated Unemployment Rate (%)': 'Average Unemployment Rate (%)',\n",
        "                     'Region2': 'Region'},\n",
        "             color='Region2',\n",
        "             color_discrete_sequence=px.colors.qualitative.Set1)\n",
        "\n",
        "fig.update_layout(xaxis_tickangle=-45, xaxis_title='', yaxis_title='Average Unemployment Rate (%)')\n",
        "\n",
        "fig.show()"
      ],
      "metadata": {
        "id": "EcdY2ZGOooWM"
      },
      "execution_count": null,
      "outputs": []
    },
    {
      "cell_type": "markdown",
      "source": [
        "# Scatter plot of Estimated Unemployment Rate in States"
      ],
      "metadata": {
        "id": "xbhoiMZqvMT7"
      }
    },
    {
      "cell_type": "code",
      "source": [
        "# Create a box plot using Plotly\n",
        "fig = px.box(df1, x='Region1', y='Estimated Unemployment Rate (%)',\n",
        "             title='Distribution of Unemployment Rate Across Different States',\n",
        "             labels={'Estimated Unemployment Rate (%)': 'Unemployment Rate (%)',\n",
        "                     'Region1': 'Region'})\n",
        "\n",
        "fig.update_layout(xaxis_tickangle=-45, xaxis_title='', yaxis_title='Unemployment Rate (%)')\n",
        "\n",
        "fig.show()"
      ],
      "metadata": {
        "id": "acpgMatypKfB"
      },
      "execution_count": null,
      "outputs": []
    },
    {
      "cell_type": "markdown",
      "source": [
        "# Box  plot of Estimated Unemployment Rate in Region"
      ],
      "metadata": {
        "id": "QOhsMnEHvGNy"
      }
    },
    {
      "cell_type": "code",
      "source": [
        "# Create a box plot using Plotly\n",
        "fig = px.box(df1, x='Region2', y='Estimated Unemployment Rate (%)',\n",
        "             title='Distribution of Unemployment Rate Across Different Regions',\n",
        "             labels={'Estimated Unemployment Rate (%)': 'Unemployment Rate (%)',\n",
        "                     'Region2': 'Region'})\n",
        "\n",
        "fig.update_layout(xaxis_tickangle=-45, xaxis_title='', yaxis_title='Unemployment Rate (%)')\n",
        "\n",
        "fig.show()"
      ],
      "metadata": {
        "id": "YnF4lLo8pYIV"
      },
      "execution_count": null,
      "outputs": []
    },
    {
      "cell_type": "markdown",
      "source": [
        "# Scatter plot of Estimated Unemployment Rate in States"
      ],
      "metadata": {
        "id": "ykVe4-Fiu9jl"
      }
    },
    {
      "cell_type": "code",
      "source": [
        "# Create a scatter plot using Plotly for Region1\n",
        "fig_region1 = px.scatter(df1, x='Region1', y='Estimated Unemployment Rate (%)',\n",
        "                          title='Unemployment Rate Across Different States',\n",
        "                          labels={'Estimated Unemployment Rate (%)': 'Unemployment Rate (%)',\n",
        "                                  'Region1': 'Region'})\n",
        "\n",
        "fig_region1.update_layout(xaxis_tickangle=-45, xaxis_title='States', yaxis_title='Unemployment Rate (%)')\n",
        "\n",
        "fig_region1.show()"
      ],
      "metadata": {
        "id": "S-ef1MYNrPNG"
      },
      "execution_count": null,
      "outputs": []
    },
    {
      "cell_type": "markdown",
      "source": [
        "# Scatter plot of Estimated Unemployment Rate in Region"
      ],
      "metadata": {
        "id": "7Ndv7DoduyQw"
      }
    },
    {
      "cell_type": "code",
      "source": [
        "# Create a scatter plot using Plotly for Region2\n",
        "fig_region2 = px.scatter(df1, x='Region2', y='Estimated Unemployment Rate (%)',\n",
        "                          title='Unemployment Rate Across Different Regions ',\n",
        "                          labels={'Estimated Unemployment Rate (%)': 'Unemployment Rate (%)',\n",
        "                                  'Region2': 'Region'})\n",
        "\n",
        "fig_region2.update_layout(xaxis_tickangle=-45, xaxis_title='Region', yaxis_title='Unemployment Rate (%)')\n",
        "\n",
        "fig_region2.show()"
      ],
      "metadata": {
        "id": "U8irOTyqrycU"
      },
      "execution_count": null,
      "outputs": []
    },
    {
      "cell_type": "markdown",
      "source": [
        "# Histogram of Estimated Unemployment Rate in States"
      ],
      "metadata": {
        "id": "0iapY6F7umFo"
      }
    },
    {
      "cell_type": "code",
      "source": [
        "# Create a histogram using Plotly\n",
        "fig = px.histogram(df1, x='Region1',y='Estimated Unemployment Rate (%)',color='Region1',\n",
        "                   title='Histogram of Estimated Unemployment Rate in States',template='plotly')\n",
        "\n",
        "fig.update_layout(xaxis={'categoryorder': 'total descending'})\n",
        "\n",
        "fig.show()"
      ],
      "metadata": {
        "id": "jZaS1RK0tNu_"
      },
      "execution_count": null,
      "outputs": []
    }
  ]
}