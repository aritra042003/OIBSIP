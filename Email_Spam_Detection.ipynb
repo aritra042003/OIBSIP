{
  "nbformat": 4,
  "nbformat_minor": 0,
  "metadata": {
    "colab": {
      "private_outputs": true,
      "provenance": []
    },
    "kernelspec": {
      "name": "python3",
      "display_name": "Python 3"
    },
    "language_info": {
      "name": "python"
    }
  },
  "cells": [
    {
      "cell_type": "markdown",
      "source": [
        "# Libraries for data Manipulation"
      ],
      "metadata": {
        "id": "IZzfkU1zScAQ"
      }
    },
    {
      "cell_type": "code",
      "execution_count": null,
      "metadata": {
        "id": "endHPx2F2arG"
      },
      "outputs": [],
      "source": [
        "import pandas as pd\n",
        "import numpy as np\n",
        "import seaborn as sns"
      ]
    },
    {
      "cell_type": "markdown",
      "source": [
        "# Load Dataset"
      ],
      "metadata": {
        "id": "wXuOnabGSlfC"
      }
    },
    {
      "cell_type": "code",
      "source": [
        "df=pd.read_csv('/content/emails.csv')"
      ],
      "metadata": {
        "id": "6e68RC7J3Ugl"
      },
      "execution_count": null,
      "outputs": []
    },
    {
      "cell_type": "markdown",
      "source": [
        "# Exploratory Data Analysis"
      ],
      "metadata": {
        "id": "NSs07PvDSpRD"
      }
    },
    {
      "cell_type": "code",
      "source": [
        "df"
      ],
      "metadata": {
        "id": "Y0BR-hVT3ciG"
      },
      "execution_count": null,
      "outputs": []
    },
    {
      "cell_type": "code",
      "source": [
        "df['spam'].value_counts()"
      ],
      "metadata": {
        "id": "MzAEcVF23gNN"
      },
      "execution_count": null,
      "outputs": []
    },
    {
      "cell_type": "code",
      "source": [
        "df.drop_duplicates(inplace=True)"
      ],
      "metadata": {
        "id": "KFEP4t2j31Qi"
      },
      "execution_count": null,
      "outputs": []
    },
    {
      "cell_type": "code",
      "source": [
        "df"
      ],
      "metadata": {
        "id": "1dK-7aga4CMU"
      },
      "execution_count": null,
      "outputs": []
    },
    {
      "cell_type": "code",
      "source": [
        "df['spam'].value_counts()"
      ],
      "metadata": {
        "id": "IT_jbywg4DzA"
      },
      "execution_count": null,
      "outputs": []
    },
    {
      "cell_type": "code",
      "source": [
        "df.isnull().sum()"
      ],
      "metadata": {
        "id": "xv0R_yZ34N2y"
      },
      "execution_count": null,
      "outputs": []
    },
    {
      "cell_type": "markdown",
      "source": [
        "# Separate X and Y"
      ],
      "metadata": {
        "id": "bGGbicxrS4uW"
      }
    },
    {
      "cell_type": "code",
      "source": [
        "x=df.text.values\n",
        "y=df.spam.values"
      ],
      "metadata": {
        "id": "hLoics6m4b2w"
      },
      "execution_count": null,
      "outputs": []
    },
    {
      "cell_type": "code",
      "source": [
        "from sklearn.model_selection import train_test_split"
      ],
      "metadata": {
        "id": "HTfhhYto5lXs"
      },
      "execution_count": null,
      "outputs": []
    },
    {
      "cell_type": "markdown",
      "source": [
        "# Split Data Set"
      ],
      "metadata": {
        "id": "U2ge4CnUTH4-"
      }
    },
    {
      "cell_type": "code",
      "source": [
        "xtrain,xtest,ytrain,ytest=train_test_split(x,y,test_size=0.2)"
      ],
      "metadata": {
        "id": "_Cod1XNd5vft"
      },
      "execution_count": null,
      "outputs": []
    },
    {
      "cell_type": "markdown",
      "source": [
        "# Data Preprocessing"
      ],
      "metadata": {
        "id": "Fy3AW-YZTSTG"
      }
    },
    {
      "cell_type": "code",
      "source": [
        "from sklearn.feature_extraction.text import CountVectorizer"
      ],
      "metadata": {
        "id": "Q874L7db6Gfm"
      },
      "execution_count": null,
      "outputs": []
    },
    {
      "cell_type": "code",
      "source": [
        "cv=CountVectorizer()\n",
        "x_train=cv.fit_transform(xtrain)"
      ],
      "metadata": {
        "id": "jHPtTNZa6imx"
      },
      "execution_count": null,
      "outputs": []
    },
    {
      "cell_type": "code",
      "source": [
        "x_train.toarray()"
      ],
      "metadata": {
        "id": "rmUyMevN8APZ"
      },
      "execution_count": null,
      "outputs": []
    },
    {
      "cell_type": "markdown",
      "source": [
        "# ML algorithm"
      ],
      "metadata": {
        "id": "vPecYQKsTb3c"
      }
    },
    {
      "cell_type": "code",
      "source": [
        "from sklearn.naive_bayes import MultinomialNB"
      ],
      "metadata": {
        "id": "YvyLyq3L8I-z"
      },
      "execution_count": null,
      "outputs": []
    },
    {
      "cell_type": "code",
      "source": [
        "model=MultinomialNB()\n",
        "model.fit(x_train,ytrain)"
      ],
      "metadata": {
        "id": "QnJCG4a79jgk"
      },
      "execution_count": null,
      "outputs": []
    },
    {
      "cell_type": "code",
      "source": [
        "x_test=cv.transform(xtest)"
      ],
      "metadata": {
        "id": "JTH2IYMm90Gr"
      },
      "execution_count": null,
      "outputs": []
    },
    {
      "cell_type": "code",
      "source": [
        "x_test.toarray()"
      ],
      "metadata": {
        "id": "SFSiNcem-3sy"
      },
      "execution_count": null,
      "outputs": []
    },
    {
      "cell_type": "markdown",
      "source": [
        "# Model Accuracy"
      ],
      "metadata": {
        "id": "nfVcBe2NTwHg"
      }
    },
    {
      "cell_type": "code",
      "source": [
        "model.score(x_test,ytest)"
      ],
      "metadata": {
        "id": "6QiPm6Ac--pb"
      },
      "execution_count": null,
      "outputs": []
    },
    {
      "cell_type": "markdown",
      "source": [
        "# Spam Checking"
      ],
      "metadata": {
        "id": "1BE3devRTqkw"
      }
    },
    {
      "cell_type": "code",
      "source": [
        "emails=['hey i am lokking for machine learning tutorial','hey you win  an iphone x giveaway']"
      ],
      "metadata": {
        "id": "EujGMosN_bg4"
      },
      "execution_count": null,
      "outputs": []
    },
    {
      "cell_type": "code",
      "source": [
        "cv_emails=cv.transform(emails)"
      ],
      "metadata": {
        "id": "6AMAgrUpAPU_"
      },
      "execution_count": null,
      "outputs": []
    },
    {
      "cell_type": "code",
      "source": [
        "model.predict(cv_emails)"
      ],
      "metadata": {
        "id": "oNUaqBanAWrs"
      },
      "execution_count": null,
      "outputs": []
    },
    {
      "cell_type": "code",
      "source": [],
      "metadata": {
        "id": "yd1DPFI0Af_G"
      },
      "execution_count": null,
      "outputs": []
    }
  ]
}